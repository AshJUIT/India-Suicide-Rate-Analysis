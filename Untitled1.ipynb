{
 "cells": [
  {
   "cell_type": "code",
   "execution_count": 1,
   "id": "bbaf6c6b",
   "metadata": {},
   "outputs": [],
   "source": [
    "import pandas as pd\n",
    "import numpy as np\n",
    "import requests\n",
    "import json"
   ]
  },
  {
   "cell_type": "code",
   "execution_count": 2,
   "id": "2cffccd0",
   "metadata": {},
   "outputs": [],
   "source": [
    "df1=pd.read_csv('https://data.covid19india.org/csv/latest/raw_data1.csv')\n",
    "df2=pd.read_csv('https://data.covid19india.org/csv/latest/raw_data2.csv')\n",
    "df3=pd.read_csv('https://data.covid19india.org/csv/latest/raw_data3.csv')\n",
    "df4=pd.read_csv('https://data.covid19india.org/csv/latest/raw_data4.csv')\n",
    "df5=pd.read_csv('https://data.covid19india.org/csv/latest/raw_data5.csv')\n",
    "df6=pd.read_csv('https://data.covid19india.org/csv/latest/raw_data6.csv')\n",
    "df7=pd.read_csv('https://data.covid19india.org/csv/latest/raw_data7.csv')\n",
    "df8=pd.read_csv('https://data.covid19india.org/csv/latest/raw_data8.csv')"
   ]
  },
  {
   "cell_type": "code",
   "execution_count": 4,
   "id": "c7d8cd65",
   "metadata": {},
   "outputs": [
    {
     "name": "stdout",
     "output_type": "stream",
     "text": [
      "<class 'pandas.core.frame.DataFrame'>\n",
      "RangeIndex: 17364 entries, 0 to 17363\n",
      "Data columns (total 21 columns):\n",
      " #   Column                                     Non-Null Count  Dtype  \n",
      "---  ------                                     --------------  -----  \n",
      " 0   Patient Number                             17306 non-null  float64\n",
      " 1   State Patient Number                       2457 non-null   object \n",
      " 2   Date Announced                             17364 non-null  object \n",
      " 3   Estimated Onset Date                       0 non-null      float64\n",
      " 4   Age Bracket                                1670 non-null   object \n",
      " 5   Gender                                     3746 non-null   object \n",
      " 6   Detected City                              2166 non-null   object \n",
      " 7   Detected District                          14978 non-null  object \n",
      " 8   Detected State                             17363 non-null  object \n",
      " 9   State code                                 17363 non-null  object \n",
      " 10  Current Status                             17364 non-null  object \n",
      " 11  Notes                                      16046 non-null  object \n",
      " 12  Contracted from which Patient (Suspected)  1537 non-null   object \n",
      " 13  Nationality                                1554 non-null   object \n",
      " 14  Type of transmission                       2951 non-null   object \n",
      " 15  Status Change Date                         17195 non-null  object \n",
      " 16  Source_1                                   17075 non-null  object \n",
      " 17  Source_2                                   3396 non-null   object \n",
      " 18  Source_3                                   445 non-null    object \n",
      " 19  Backup Notes                               361 non-null    object \n",
      " 20  Num Cases                                  17364 non-null  int64  \n",
      "dtypes: float64(2), int64(1), object(18)\n",
      "memory usage: 2.8+ MB\n"
     ]
    }
   ],
   "source": [
    "df1.info()"
   ]
  },
  {
   "cell_type": "code",
   "execution_count": 5,
   "id": "11252c27",
   "metadata": {},
   "outputs": [
    {
     "data": {
      "text/plain": [
       "Index(['Patient Number', 'State Patient Number', 'Date Announced',\n",
       "       'Estimated Onset Date', 'Age Bracket', 'Gender', 'Detected City',\n",
       "       'Detected District', 'Detected State', 'State code', 'Current Status',\n",
       "       'Notes', 'Contracted from which Patient (Suspected)', 'Nationality',\n",
       "       'Type of transmission', 'Status Change Date', 'Source_1', 'Source_2',\n",
       "       'Source_3', 'Backup Notes', 'Num Cases'],\n",
       "      dtype='object')"
      ]
     },
     "execution_count": 5,
     "metadata": {},
     "output_type": "execute_result"
    }
   ],
   "source": [
    "df1.columns"
   ]
  },
  {
   "cell_type": "code",
   "execution_count": 6,
   "id": "579bb1c7",
   "metadata": {},
   "outputs": [
    {
     "data": {
      "text/plain": [
       "Index(['Patient Number', 'State Patient Number', 'Date Announced',\n",
       "       'Estimated Onset Date', 'Age Bracket', 'Gender', 'Detected City',\n",
       "       'Detected District', 'Detected State', 'State code', 'Current Status',\n",
       "       'Notes', 'Contracted from which Patient (Suspected)', 'Nationality',\n",
       "       'Type of transmission', 'Status Change Date', 'Source_1', 'Source_2',\n",
       "       'Source_3', 'Backup Notes', 'Num Cases'],\n",
       "      dtype='object')"
      ]
     },
     "execution_count": 6,
     "metadata": {},
     "output_type": "execute_result"
    }
   ],
   "source": [
    "df2.columns"
   ]
  },
  {
   "cell_type": "code",
   "execution_count": 7,
   "id": "25587a5d",
   "metadata": {},
   "outputs": [
    {
     "data": {
      "text/plain": [
       "Index(['Entry_ID', 'State Patient Number', 'Date Announced', 'Age Bracket',\n",
       "       'Gender', 'Detected City', 'Detected District', 'Detected State',\n",
       "       'State code', 'Num Cases', 'Current Status',\n",
       "       'Contracted from which Patient (Suspected)', 'Notes', 'Source_1',\n",
       "       'Source_2', 'Source_3', 'Nationality', 'Type of transmission',\n",
       "       'Status Change Date', 'Patient Number'],\n",
       "      dtype='object')"
      ]
     },
     "execution_count": 7,
     "metadata": {},
     "output_type": "execute_result"
    }
   ],
   "source": [
    "df3.columns"
   ]
  },
  {
   "cell_type": "code",
   "execution_count": 8,
   "id": "f0ccad24",
   "metadata": {},
   "outputs": [
    {
     "data": {
      "text/plain": [
       "Index(['Entry_ID', 'State Patient Number', 'Date Announced', 'Age Bracket',\n",
       "       'Gender', 'Detected City', 'Detected District', 'Detected State',\n",
       "       'State code', 'Num Cases', 'Current Status',\n",
       "       'Contracted from which Patient (Suspected)', 'Notes', 'Source_1',\n",
       "       'Source_2', 'Source_3', 'Nationality', 'Type of transmission',\n",
       "       'Status Change Date', 'Patient Number'],\n",
       "      dtype='object')"
      ]
     },
     "execution_count": 8,
     "metadata": {},
     "output_type": "execute_result"
    }
   ],
   "source": [
    "df4.columns"
   ]
  },
  {
   "cell_type": "code",
   "execution_count": 9,
   "id": "b6dd9afc",
   "metadata": {},
   "outputs": [
    {
     "data": {
      "text/plain": [
       "Index(['Entry_ID', 'State Patient Number', 'Date Announced', 'Age Bracket',\n",
       "       'Gender', 'Detected City', 'Detected District', 'Detected State',\n",
       "       'State code', 'Num Cases', 'Current Status',\n",
       "       'Contracted from which Patient (Suspected)', 'Notes', 'Source_1',\n",
       "       'Source_2', 'Source_3', 'Nationality', 'Type of transmission',\n",
       "       'Status Change Date', 'Patient Number'],\n",
       "      dtype='object')"
      ]
     },
     "execution_count": 9,
     "metadata": {},
     "output_type": "execute_result"
    }
   ],
   "source": [
    "df5.columns"
   ]
  },
  {
   "cell_type": "code",
   "execution_count": 10,
   "id": "c6bd8f24",
   "metadata": {},
   "outputs": [
    {
     "data": {
      "text/plain": [
       "Index(['Entry_ID', 'State Patient Number', 'Date Announced', 'Age Bracket',\n",
       "       'Gender', 'Detected City', 'Detected District', 'Detected State',\n",
       "       'State code', 'Num Cases', 'Current Status',\n",
       "       'Contracted from which Patient (Suspected)', 'Notes', 'Source_1',\n",
       "       'Source_2', 'Source_3', 'Nationality', 'Type of transmission',\n",
       "       'Status Change Date', 'Patient Number'],\n",
       "      dtype='object')"
      ]
     },
     "execution_count": 10,
     "metadata": {},
     "output_type": "execute_result"
    }
   ],
   "source": [
    "df6.columns"
   ]
  },
  {
   "cell_type": "code",
   "execution_count": 11,
   "id": "99ff3fba",
   "metadata": {},
   "outputs": [
    {
     "data": {
      "text/plain": [
       "Index(['Entry_ID', 'State Patient Number', 'Date Announced', 'Age Bracket',\n",
       "       'Gender', 'Detected City', 'Detected District', 'Detected State',\n",
       "       'State code', 'Num Cases', 'Current Status',\n",
       "       'Contracted from which Patient (Suspected)', 'Notes', 'Source_1',\n",
       "       'Source_2', 'Source_3', 'Nationality', 'Type of transmission',\n",
       "       'Status Change Date', 'Patient Number'],\n",
       "      dtype='object')"
      ]
     },
     "execution_count": 11,
     "metadata": {},
     "output_type": "execute_result"
    }
   ],
   "source": [
    "df7.columns"
   ]
  },
  {
   "cell_type": "code",
   "execution_count": 12,
   "id": "ce876f51",
   "metadata": {},
   "outputs": [
    {
     "data": {
      "text/plain": [
       "Index(['Entry_ID', 'State Patient Number', 'Date Announced', 'Age Bracket',\n",
       "       'Gender', 'Detected City', 'Detected District', 'Detected State',\n",
       "       'State code', 'Num Cases', 'Current Status',\n",
       "       'Contracted from which Patient (Suspected)', 'Notes', 'Source_1',\n",
       "       'Source_2', 'Source_3', 'Nationality', 'Type of transmission',\n",
       "       'Status Change Date', 'Patient Number'],\n",
       "      dtype='object')"
      ]
     },
     "execution_count": 12,
     "metadata": {},
     "output_type": "execute_result"
    }
   ],
   "source": [
    "df8.columns"
   ]
  },
  {
   "cell_type": "code",
   "execution_count": 13,
   "id": "0437566f",
   "metadata": {},
   "outputs": [],
   "source": [
    "df1=df1.rename(columns={\"Num cases\":\"Num Cases\"})\n",
    "df2=df2.rename(columns={\"Num cases\":\"Num Cases\"})"
   ]
  },
  {
   "cell_type": "code",
   "execution_count": 14,
   "id": "422027de",
   "metadata": {},
   "outputs": [
    {
     "data": {
      "text/plain": [
       "Index(['Patient Number', 'State Patient Number', 'Date Announced',\n",
       "       'Estimated Onset Date', 'Age Bracket', 'Gender', 'Detected City',\n",
       "       'Detected District', 'Detected State', 'State code', 'Current Status',\n",
       "       'Notes', 'Contracted from which Patient (Suspected)', 'Nationality',\n",
       "       'Type of transmission', 'Status Change Date', 'Source_1', 'Source_2',\n",
       "       'Source_3', 'Backup Notes', 'Num Cases'],\n",
       "      dtype='object')"
      ]
     },
     "execution_count": 14,
     "metadata": {},
     "output_type": "execute_result"
    }
   ],
   "source": [
    "df1.columns"
   ]
  },
  {
   "cell_type": "code",
   "execution_count": 15,
   "id": "d30ae53f",
   "metadata": {},
   "outputs": [],
   "source": [
    "df1=df1.loc[:,['Num Cases','Date Announced', 'Age Bracket', 'Gender', 'Detected City',\n",
    "       'Detected District', 'Detected State', 'Current Status']]\n",
    "df2=df2.loc[:,['Num Cases','Date Announced', 'Age Bracket', 'Gender', 'Detected City',\n",
    "       'Detected District', 'Detected State', 'Current Status']]\n",
    "df3=df3.loc[:,['Num Cases','Date Announced', 'Age Bracket', 'Gender', 'Detected City',\n",
    "       'Detected District', 'Detected State', 'Current Status']]\n",
    "df4=df4.loc[:,['Num Cases','Date Announced', 'Age Bracket', 'Gender', 'Detected City',\n",
    "       'Detected District', 'Detected State', 'Current Status']]\n",
    "df5=df5.loc[:,['Num Cases','Date Announced', 'Age Bracket', 'Gender', 'Detected City',\n",
    "       'Detected District', 'Detected State', 'Current Status']]\n",
    "df6=df6.loc[:,['Num Cases','Date Announced', 'Age Bracket', 'Gender', 'Detected City',\n",
    "       'Detected District', 'Detected State', 'Current Status']]\n",
    "df7=df7.loc[:,['Num Cases','Date Announced', 'Age Bracket', 'Gender', 'Detected City',\n",
    "       'Detected District', 'Detected State', 'Current Status']]\n",
    "df8=df8.loc[:,['Num Cases','Date Announced', 'Age Bracket', 'Gender', 'Detected City',\n",
    "       'Detected District', 'Detected State', 'Current Status']]"
   ]
  },
  {
   "cell_type": "code",
   "execution_count": 16,
   "id": "4647f862",
   "metadata": {},
   "outputs": [
    {
     "name": "stderr",
     "output_type": "stream",
     "text": [
      "C:\\Users\\HP\\AppData\\Local\\Temp\\ipykernel_23264\\2805542818.py:1: FutureWarning: The frame.append method is deprecated and will be removed from pandas in a future version. Use pandas.concat instead.\n",
      "  df=df1.append([df2,df3,df4,df5,df6,df7,df8])\n"
     ]
    },
    {
     "data": {
      "text/html": [
       "<div>\n",
       "<style scoped>\n",
       "    .dataframe tbody tr th:only-of-type {\n",
       "        vertical-align: middle;\n",
       "    }\n",
       "\n",
       "    .dataframe tbody tr th {\n",
       "        vertical-align: top;\n",
       "    }\n",
       "\n",
       "    .dataframe thead th {\n",
       "        text-align: right;\n",
       "    }\n",
       "</style>\n",
       "<table border=\"1\" class=\"dataframe\">\n",
       "  <thead>\n",
       "    <tr style=\"text-align: right;\">\n",
       "      <th></th>\n",
       "      <th>Num Cases</th>\n",
       "      <th>Date Announced</th>\n",
       "      <th>Age Bracket</th>\n",
       "      <th>Gender</th>\n",
       "      <th>Detected City</th>\n",
       "      <th>Detected District</th>\n",
       "      <th>Detected State</th>\n",
       "      <th>Current Status</th>\n",
       "    </tr>\n",
       "  </thead>\n",
       "  <tbody>\n",
       "    <tr>\n",
       "      <th>0</th>\n",
       "      <td>1.0</td>\n",
       "      <td>30/01/2020</td>\n",
       "      <td>20</td>\n",
       "      <td>F</td>\n",
       "      <td>Thrissur</td>\n",
       "      <td>Thrissur</td>\n",
       "      <td>Kerala</td>\n",
       "      <td>Recovered</td>\n",
       "    </tr>\n",
       "    <tr>\n",
       "      <th>1</th>\n",
       "      <td>1.0</td>\n",
       "      <td>02/02/2020</td>\n",
       "      <td>NaN</td>\n",
       "      <td>NaN</td>\n",
       "      <td>Alappuzha</td>\n",
       "      <td>Alappuzha</td>\n",
       "      <td>Kerala</td>\n",
       "      <td>Recovered</td>\n",
       "    </tr>\n",
       "    <tr>\n",
       "      <th>2</th>\n",
       "      <td>1.0</td>\n",
       "      <td>03/02/2020</td>\n",
       "      <td>NaN</td>\n",
       "      <td>NaN</td>\n",
       "      <td>Kasaragod</td>\n",
       "      <td>Kasaragod</td>\n",
       "      <td>Kerala</td>\n",
       "      <td>Recovered</td>\n",
       "    </tr>\n",
       "    <tr>\n",
       "      <th>3</th>\n",
       "      <td>1.0</td>\n",
       "      <td>02/03/2020</td>\n",
       "      <td>45</td>\n",
       "      <td>M</td>\n",
       "      <td>East Delhi (Mayur Vihar)</td>\n",
       "      <td>East Delhi</td>\n",
       "      <td>Delhi</td>\n",
       "      <td>Recovered</td>\n",
       "    </tr>\n",
       "    <tr>\n",
       "      <th>4</th>\n",
       "      <td>1.0</td>\n",
       "      <td>02/03/2020</td>\n",
       "      <td>24</td>\n",
       "      <td>M</td>\n",
       "      <td>Hyderabad</td>\n",
       "      <td>Hyderabad</td>\n",
       "      <td>Telangana</td>\n",
       "      <td>Recovered</td>\n",
       "    </tr>\n",
       "    <tr>\n",
       "      <th>...</th>\n",
       "      <td>...</td>\n",
       "      <td>...</td>\n",
       "      <td>...</td>\n",
       "      <td>...</td>\n",
       "      <td>...</td>\n",
       "      <td>...</td>\n",
       "      <td>...</td>\n",
       "      <td>...</td>\n",
       "    </tr>\n",
       "    <tr>\n",
       "      <th>22790</th>\n",
       "      <td>2.0</td>\n",
       "      <td>07/07/2020</td>\n",
       "      <td>NaN</td>\n",
       "      <td>NaN</td>\n",
       "      <td>NaN</td>\n",
       "      <td>Dadra and Nagar Haveli</td>\n",
       "      <td>Dadra and Nagar Haveli and Daman and Diu</td>\n",
       "      <td>Hospitalized</td>\n",
       "    </tr>\n",
       "    <tr>\n",
       "      <th>22791</th>\n",
       "      <td>-9.0</td>\n",
       "      <td>07/07/2020</td>\n",
       "      <td>NaN</td>\n",
       "      <td>NaN</td>\n",
       "      <td>NaN</td>\n",
       "      <td>NaN</td>\n",
       "      <td>Sikkim</td>\n",
       "      <td>Recovered</td>\n",
       "    </tr>\n",
       "    <tr>\n",
       "      <th>22792</th>\n",
       "      <td>-6.0</td>\n",
       "      <td>07/07/2020</td>\n",
       "      <td>NaN</td>\n",
       "      <td>NaN</td>\n",
       "      <td>NaN</td>\n",
       "      <td>NaN</td>\n",
       "      <td>Sikkim</td>\n",
       "      <td>Recovered</td>\n",
       "    </tr>\n",
       "    <tr>\n",
       "      <th>22793</th>\n",
       "      <td>-1.0</td>\n",
       "      <td>07/07/2020</td>\n",
       "      <td>NaN</td>\n",
       "      <td>NaN</td>\n",
       "      <td>NaN</td>\n",
       "      <td>Kozhikode</td>\n",
       "      <td>Kerala</td>\n",
       "      <td>Recovered</td>\n",
       "    </tr>\n",
       "    <tr>\n",
       "      <th>22794</th>\n",
       "      <td>1.0</td>\n",
       "      <td>07/07/2020</td>\n",
       "      <td>NaN</td>\n",
       "      <td>NaN</td>\n",
       "      <td>NaN</td>\n",
       "      <td>Wayanad</td>\n",
       "      <td>Kerala</td>\n",
       "      <td>Recovered</td>\n",
       "    </tr>\n",
       "  </tbody>\n",
       "</table>\n",
       "<p>145849 rows × 8 columns</p>\n",
       "</div>"
      ],
      "text/plain": [
       "       Num Cases Date Announced Age Bracket Gender             Detected City  \\\n",
       "0            1.0     30/01/2020          20      F                  Thrissur   \n",
       "1            1.0     02/02/2020         NaN    NaN                 Alappuzha   \n",
       "2            1.0     03/02/2020         NaN    NaN                 Kasaragod   \n",
       "3            1.0     02/03/2020          45      M  East Delhi (Mayur Vihar)   \n",
       "4            1.0     02/03/2020          24      M                 Hyderabad   \n",
       "...          ...            ...         ...    ...                       ...   \n",
       "22790        2.0     07/07/2020         NaN    NaN                       NaN   \n",
       "22791       -9.0     07/07/2020         NaN    NaN                       NaN   \n",
       "22792       -6.0     07/07/2020         NaN    NaN                       NaN   \n",
       "22793       -1.0     07/07/2020         NaN    NaN                       NaN   \n",
       "22794        1.0     07/07/2020         NaN    NaN                       NaN   \n",
       "\n",
       "            Detected District                            Detected State  \\\n",
       "0                    Thrissur                                    Kerala   \n",
       "1                   Alappuzha                                    Kerala   \n",
       "2                   Kasaragod                                    Kerala   \n",
       "3                  East Delhi                                     Delhi   \n",
       "4                   Hyderabad                                 Telangana   \n",
       "...                       ...                                       ...   \n",
       "22790  Dadra and Nagar Haveli  Dadra and Nagar Haveli and Daman and Diu   \n",
       "22791                     NaN                                    Sikkim   \n",
       "22792                     NaN                                    Sikkim   \n",
       "22793               Kozhikode                                    Kerala   \n",
       "22794                 Wayanad                                    Kerala   \n",
       "\n",
       "      Current Status  \n",
       "0          Recovered  \n",
       "1          Recovered  \n",
       "2          Recovered  \n",
       "3          Recovered  \n",
       "4          Recovered  \n",
       "...              ...  \n",
       "22790   Hospitalized  \n",
       "22791      Recovered  \n",
       "22792      Recovered  \n",
       "22793      Recovered  \n",
       "22794      Recovered  \n",
       "\n",
       "[145849 rows x 8 columns]"
      ]
     },
     "execution_count": 16,
     "metadata": {},
     "output_type": "execute_result"
    }
   ],
   "source": [
    "df=df1.append([df2,df3,df4,df5,df6,df7,df8])\n",
    "df"
   ]
  },
  {
   "cell_type": "code",
   "execution_count": 17,
   "id": "3e8bb4e7",
   "metadata": {},
   "outputs": [
    {
     "data": {
      "text/html": [
       "<div>\n",
       "<style scoped>\n",
       "    .dataframe tbody tr th:only-of-type {\n",
       "        vertical-align: middle;\n",
       "    }\n",
       "\n",
       "    .dataframe tbody tr th {\n",
       "        vertical-align: top;\n",
       "    }\n",
       "\n",
       "    .dataframe thead th {\n",
       "        text-align: right;\n",
       "    }\n",
       "</style>\n",
       "<table border=\"1\" class=\"dataframe\">\n",
       "  <thead>\n",
       "    <tr style=\"text-align: right;\">\n",
       "      <th></th>\n",
       "      <th>Day</th>\n",
       "      <th>Month</th>\n",
       "      <th>Year</th>\n",
       "    </tr>\n",
       "  </thead>\n",
       "  <tbody>\n",
       "    <tr>\n",
       "      <th>0</th>\n",
       "      <td>30</td>\n",
       "      <td>01</td>\n",
       "      <td>2020</td>\n",
       "    </tr>\n",
       "    <tr>\n",
       "      <th>1</th>\n",
       "      <td>02</td>\n",
       "      <td>02</td>\n",
       "      <td>2020</td>\n",
       "    </tr>\n",
       "    <tr>\n",
       "      <th>2</th>\n",
       "      <td>03</td>\n",
       "      <td>02</td>\n",
       "      <td>2020</td>\n",
       "    </tr>\n",
       "    <tr>\n",
       "      <th>3</th>\n",
       "      <td>02</td>\n",
       "      <td>03</td>\n",
       "      <td>2020</td>\n",
       "    </tr>\n",
       "    <tr>\n",
       "      <th>4</th>\n",
       "      <td>02</td>\n",
       "      <td>03</td>\n",
       "      <td>2020</td>\n",
       "    </tr>\n",
       "    <tr>\n",
       "      <th>...</th>\n",
       "      <td>...</td>\n",
       "      <td>...</td>\n",
       "      <td>...</td>\n",
       "    </tr>\n",
       "    <tr>\n",
       "      <th>22790</th>\n",
       "      <td>07</td>\n",
       "      <td>07</td>\n",
       "      <td>2020</td>\n",
       "    </tr>\n",
       "    <tr>\n",
       "      <th>22791</th>\n",
       "      <td>07</td>\n",
       "      <td>07</td>\n",
       "      <td>2020</td>\n",
       "    </tr>\n",
       "    <tr>\n",
       "      <th>22792</th>\n",
       "      <td>07</td>\n",
       "      <td>07</td>\n",
       "      <td>2020</td>\n",
       "    </tr>\n",
       "    <tr>\n",
       "      <th>22793</th>\n",
       "      <td>07</td>\n",
       "      <td>07</td>\n",
       "      <td>2020</td>\n",
       "    </tr>\n",
       "    <tr>\n",
       "      <th>22794</th>\n",
       "      <td>07</td>\n",
       "      <td>07</td>\n",
       "      <td>2020</td>\n",
       "    </tr>\n",
       "  </tbody>\n",
       "</table>\n",
       "<p>145849 rows × 3 columns</p>\n",
       "</div>"
      ],
      "text/plain": [
       "      Day Month  Year\n",
       "0      30    01  2020\n",
       "1      02    02  2020\n",
       "2      03    02  2020\n",
       "3      02    03  2020\n",
       "4      02    03  2020\n",
       "...    ..   ...   ...\n",
       "22790  07    07  2020\n",
       "22791  07    07  2020\n",
       "22792  07    07  2020\n",
       "22793  07    07  2020\n",
       "22794  07    07  2020\n",
       "\n",
       "[145849 rows x 3 columns]"
      ]
     },
     "execution_count": 17,
     "metadata": {},
     "output_type": "execute_result"
    }
   ],
   "source": [
    "DATE=df['Date Announced'].str.split('/',expand=True)\n",
    "DATE.columns=['Day','Month','Year']\n",
    "DATE"
   ]
  },
  {
   "cell_type": "code",
   "execution_count": 18,
   "id": "623103b3",
   "metadata": {},
   "outputs": [
    {
     "data": {
      "text/html": [
       "<div>\n",
       "<style scoped>\n",
       "    .dataframe tbody tr th:only-of-type {\n",
       "        vertical-align: middle;\n",
       "    }\n",
       "\n",
       "    .dataframe tbody tr th {\n",
       "        vertical-align: top;\n",
       "    }\n",
       "\n",
       "    .dataframe thead th {\n",
       "        text-align: right;\n",
       "    }\n",
       "</style>\n",
       "<table border=\"1\" class=\"dataframe\">\n",
       "  <thead>\n",
       "    <tr style=\"text-align: right;\">\n",
       "      <th></th>\n",
       "      <th>Num Cases</th>\n",
       "      <th>Date Announced</th>\n",
       "      <th>Age Bracket</th>\n",
       "      <th>Gender</th>\n",
       "      <th>Detected City</th>\n",
       "      <th>Detected District</th>\n",
       "      <th>Detected State</th>\n",
       "      <th>Current Status</th>\n",
       "      <th>Day</th>\n",
       "      <th>Month</th>\n",
       "      <th>Year</th>\n",
       "    </tr>\n",
       "  </thead>\n",
       "  <tbody>\n",
       "    <tr>\n",
       "      <th>0</th>\n",
       "      <td>1.0</td>\n",
       "      <td>30/01/2020</td>\n",
       "      <td>20</td>\n",
       "      <td>F</td>\n",
       "      <td>Thrissur</td>\n",
       "      <td>Thrissur</td>\n",
       "      <td>Kerala</td>\n",
       "      <td>Recovered</td>\n",
       "      <td>30</td>\n",
       "      <td>01</td>\n",
       "      <td>2020</td>\n",
       "    </tr>\n",
       "    <tr>\n",
       "      <th>1</th>\n",
       "      <td>1.0</td>\n",
       "      <td>02/02/2020</td>\n",
       "      <td>NaN</td>\n",
       "      <td>NaN</td>\n",
       "      <td>Alappuzha</td>\n",
       "      <td>Alappuzha</td>\n",
       "      <td>Kerala</td>\n",
       "      <td>Recovered</td>\n",
       "      <td>02</td>\n",
       "      <td>02</td>\n",
       "      <td>2020</td>\n",
       "    </tr>\n",
       "    <tr>\n",
       "      <th>2</th>\n",
       "      <td>1.0</td>\n",
       "      <td>03/02/2020</td>\n",
       "      <td>NaN</td>\n",
       "      <td>NaN</td>\n",
       "      <td>Kasaragod</td>\n",
       "      <td>Kasaragod</td>\n",
       "      <td>Kerala</td>\n",
       "      <td>Recovered</td>\n",
       "      <td>03</td>\n",
       "      <td>02</td>\n",
       "      <td>2020</td>\n",
       "    </tr>\n",
       "    <tr>\n",
       "      <th>3</th>\n",
       "      <td>1.0</td>\n",
       "      <td>02/03/2020</td>\n",
       "      <td>45</td>\n",
       "      <td>M</td>\n",
       "      <td>East Delhi (Mayur Vihar)</td>\n",
       "      <td>East Delhi</td>\n",
       "      <td>Delhi</td>\n",
       "      <td>Recovered</td>\n",
       "      <td>02</td>\n",
       "      <td>03</td>\n",
       "      <td>2020</td>\n",
       "    </tr>\n",
       "    <tr>\n",
       "      <th>4</th>\n",
       "      <td>1.0</td>\n",
       "      <td>02/03/2020</td>\n",
       "      <td>24</td>\n",
       "      <td>M</td>\n",
       "      <td>Hyderabad</td>\n",
       "      <td>Hyderabad</td>\n",
       "      <td>Telangana</td>\n",
       "      <td>Recovered</td>\n",
       "      <td>02</td>\n",
       "      <td>03</td>\n",
       "      <td>2020</td>\n",
       "    </tr>\n",
       "    <tr>\n",
       "      <th>...</th>\n",
       "      <td>...</td>\n",
       "      <td>...</td>\n",
       "      <td>...</td>\n",
       "      <td>...</td>\n",
       "      <td>...</td>\n",
       "      <td>...</td>\n",
       "      <td>...</td>\n",
       "      <td>...</td>\n",
       "      <td>...</td>\n",
       "      <td>...</td>\n",
       "      <td>...</td>\n",
       "    </tr>\n",
       "    <tr>\n",
       "      <th>22790</th>\n",
       "      <td>2.0</td>\n",
       "      <td>07/07/2020</td>\n",
       "      <td>NaN</td>\n",
       "      <td>NaN</td>\n",
       "      <td>NaN</td>\n",
       "      <td>Dadra and Nagar Haveli</td>\n",
       "      <td>Dadra and Nagar Haveli and Daman and Diu</td>\n",
       "      <td>Hospitalized</td>\n",
       "      <td>07</td>\n",
       "      <td>07</td>\n",
       "      <td>2020</td>\n",
       "    </tr>\n",
       "    <tr>\n",
       "      <th>22791</th>\n",
       "      <td>-9.0</td>\n",
       "      <td>07/07/2020</td>\n",
       "      <td>NaN</td>\n",
       "      <td>NaN</td>\n",
       "      <td>NaN</td>\n",
       "      <td>NaN</td>\n",
       "      <td>Sikkim</td>\n",
       "      <td>Recovered</td>\n",
       "      <td>07</td>\n",
       "      <td>07</td>\n",
       "      <td>2020</td>\n",
       "    </tr>\n",
       "    <tr>\n",
       "      <th>22792</th>\n",
       "      <td>-6.0</td>\n",
       "      <td>07/07/2020</td>\n",
       "      <td>NaN</td>\n",
       "      <td>NaN</td>\n",
       "      <td>NaN</td>\n",
       "      <td>NaN</td>\n",
       "      <td>Sikkim</td>\n",
       "      <td>Recovered</td>\n",
       "      <td>07</td>\n",
       "      <td>07</td>\n",
       "      <td>2020</td>\n",
       "    </tr>\n",
       "    <tr>\n",
       "      <th>22793</th>\n",
       "      <td>-1.0</td>\n",
       "      <td>07/07/2020</td>\n",
       "      <td>NaN</td>\n",
       "      <td>NaN</td>\n",
       "      <td>NaN</td>\n",
       "      <td>Kozhikode</td>\n",
       "      <td>Kerala</td>\n",
       "      <td>Recovered</td>\n",
       "      <td>07</td>\n",
       "      <td>07</td>\n",
       "      <td>2020</td>\n",
       "    </tr>\n",
       "    <tr>\n",
       "      <th>22794</th>\n",
       "      <td>1.0</td>\n",
       "      <td>07/07/2020</td>\n",
       "      <td>NaN</td>\n",
       "      <td>NaN</td>\n",
       "      <td>NaN</td>\n",
       "      <td>Wayanad</td>\n",
       "      <td>Kerala</td>\n",
       "      <td>Recovered</td>\n",
       "      <td>07</td>\n",
       "      <td>07</td>\n",
       "      <td>2020</td>\n",
       "    </tr>\n",
       "  </tbody>\n",
       "</table>\n",
       "<p>145849 rows × 11 columns</p>\n",
       "</div>"
      ],
      "text/plain": [
       "       Num Cases Date Announced Age Bracket Gender             Detected City  \\\n",
       "0            1.0     30/01/2020          20      F                  Thrissur   \n",
       "1            1.0     02/02/2020         NaN    NaN                 Alappuzha   \n",
       "2            1.0     03/02/2020         NaN    NaN                 Kasaragod   \n",
       "3            1.0     02/03/2020          45      M  East Delhi (Mayur Vihar)   \n",
       "4            1.0     02/03/2020          24      M                 Hyderabad   \n",
       "...          ...            ...         ...    ...                       ...   \n",
       "22790        2.0     07/07/2020         NaN    NaN                       NaN   \n",
       "22791       -9.0     07/07/2020         NaN    NaN                       NaN   \n",
       "22792       -6.0     07/07/2020         NaN    NaN                       NaN   \n",
       "22793       -1.0     07/07/2020         NaN    NaN                       NaN   \n",
       "22794        1.0     07/07/2020         NaN    NaN                       NaN   \n",
       "\n",
       "            Detected District                            Detected State  \\\n",
       "0                    Thrissur                                    Kerala   \n",
       "1                   Alappuzha                                    Kerala   \n",
       "2                   Kasaragod                                    Kerala   \n",
       "3                  East Delhi                                     Delhi   \n",
       "4                   Hyderabad                                 Telangana   \n",
       "...                       ...                                       ...   \n",
       "22790  Dadra and Nagar Haveli  Dadra and Nagar Haveli and Daman and Diu   \n",
       "22791                     NaN                                    Sikkim   \n",
       "22792                     NaN                                    Sikkim   \n",
       "22793               Kozhikode                                    Kerala   \n",
       "22794                 Wayanad                                    Kerala   \n",
       "\n",
       "      Current Status Day Month  Year  \n",
       "0          Recovered  30    01  2020  \n",
       "1          Recovered  02    02  2020  \n",
       "2          Recovered  03    02  2020  \n",
       "3          Recovered  02    03  2020  \n",
       "4          Recovered  02    03  2020  \n",
       "...              ...  ..   ...   ...  \n",
       "22790   Hospitalized  07    07  2020  \n",
       "22791      Recovered  07    07  2020  \n",
       "22792      Recovered  07    07  2020  \n",
       "22793      Recovered  07    07  2020  \n",
       "22794      Recovered  07    07  2020  \n",
       "\n",
       "[145849 rows x 11 columns]"
      ]
     },
     "execution_count": 18,
     "metadata": {},
     "output_type": "execute_result"
    }
   ],
   "source": [
    "df=pd.concat([df,DATE],axis=1)\n",
    "df"
   ]
  },
  {
   "cell_type": "code",
   "execution_count": 19,
   "id": "05e3fd80",
   "metadata": {},
   "outputs": [
    {
     "name": "stdout",
     "output_type": "stream",
     "text": [
      "<class 'pandas.core.frame.DataFrame'>\n",
      "Int64Index: 145849 entries, 0 to 22794\n",
      "Data columns (total 11 columns):\n",
      " #   Column             Non-Null Count   Dtype  \n",
      "---  ------             --------------   -----  \n",
      " 0   Num Cases          145846 non-null  float64\n",
      " 1   Date Announced     145849 non-null  object \n",
      " 2   Age Bracket        60013 non-null   object \n",
      " 3   Gender             62808 non-null   object \n",
      " 4   Detected City      10949 non-null   object \n",
      " 5   Detected District  137451 non-null  object \n",
      " 6   Detected State     145840 non-null  object \n",
      " 7   Current Status     145847 non-null  object \n",
      " 8   Day                145849 non-null  object \n",
      " 9   Month              145849 non-null  object \n",
      " 10  Year               145849 non-null  object \n",
      "dtypes: float64(1), object(10)\n",
      "memory usage: 13.4+ MB\n"
     ]
    }
   ],
   "source": [
    "df.info()"
   ]
  },
  {
   "cell_type": "code",
   "execution_count": 25,
   "id": "09397d73",
   "metadata": {},
   "outputs": [
    {
     "data": {
      "text/plain": [
       "Detected City        92.49\n",
       "Age Bracket          58.85\n",
       "Gender               56.94\n",
       "Detected District     5.76\n",
       "Detected State        0.01\n",
       "Num Cases             0.00\n",
       "Current Status        0.00\n",
       "Date Announced        0.00\n",
       "Day                   0.00\n",
       "Month                 0.00\n",
       "Year                  0.00\n",
       "dtype: float64"
      ]
     },
     "execution_count": 25,
     "metadata": {},
     "output_type": "execute_result"
    }
   ],
   "source": [
    "round(df.isnull().sum(axis=0).sort_values(ascending=False)/len(df)*100,2)\n"
   ]
  },
  {
   "cell_type": "code",
   "execution_count": 27,
   "id": "4e13f8f7",
   "metadata": {},
   "outputs": [
    {
     "data": {
      "text/plain": [
       "12585    6\n",
       "12586    6\n",
       "268      6\n",
       "215      5\n",
       "785      5\n",
       "        ..\n",
       "196      0\n",
       "197      0\n",
       "198      0\n",
       "11680    0\n",
       "0        0\n",
       "Length: 145849, dtype: int64"
      ]
     },
     "execution_count": 27,
     "metadata": {},
     "output_type": "execute_result"
    }
   ],
   "source": [
    "df.isnull().sum(axis=1).sort_values(ascending=False)"
   ]
  },
  {
   "cell_type": "code",
   "execution_count": 32,
   "id": "efbae80f",
   "metadata": {},
   "outputs": [],
   "source": [
    "M=df[df['Current Status']=='Hospitalized'].groupby('Month')['Num Cases'].sum()"
   ]
  },
  {
   "cell_type": "code",
   "execution_count": 30,
   "id": "bdd90ccc",
   "metadata": {},
   "outputs": [],
   "source": [
    "import matplotlib.pyplot as plt"
   ]
  },
  {
   "cell_type": "code",
   "execution_count": 33,
   "id": "d6bc9d92",
   "metadata": {},
   "outputs": [
    {
     "data": {
      "image/png": "[encoded data removed]",
      "text/plain": [
       "<Figure size 640x480 with 1 Axes>"
      ]
     },
     "metadata": {},
     "output_type": "display_data"
    }
   ],
   "source": [
    "M.plot.bar()\n",
    "plt.show()"
   ]
  },
  {
   "cell_type": "code",
   "execution_count": 34,
   "id": "2cb175c8",
   "metadata": {},
   "outputs": [
    {
     "data": {
      "text/plain": [
       "Gender\n",
       "F             21294.0\n",
       "M             42795.0\n",
       "M                 1.0\n",
       "Non-Binary       12.0\n",
       "Name: Num Cases, dtype: float64"
      ]
     },
     "execution_count": 34,
     "metadata": {},
     "output_type": "execute_result"
    }
   ],
   "source": [
    "df.groupby('Gender')['Num Cases'].sum()"
   ]
  },
  {
   "cell_type": "code",
   "execution_count": 40,
   "id": "10377602",
   "metadata": {},
   "outputs": [
    {
     "data": {
      "text/plain": [
       "Age Bracket\n",
       "30.0    1446.0\n",
       "40.0    1242.0\n",
       "35.0    1215.0\n",
       "25.0    1198.0\n",
       "32.0    1162.0\n",
       "45.0    1108.0\n",
       "28.0    1084.0\n",
       "24.0    1033.0\n",
       "26.0    1017.0\n",
       "27.0    1014.0\n",
       "Name: Num Cases, dtype: float64"
      ]
     },
     "execution_count": 40,
     "metadata": {},
     "output_type": "execute_result"
    }
   ],
   "source": [
    "m=df.groupby('Age Bracket')['Num Cases'].sum().sort_values(ascending=False).head(10)\n",
    "m"
   ]
  },
  {
   "cell_type": "code",
   "execution_count": 42,
   "id": "aceae1c3",
   "metadata": {},
   "outputs": [
    {
     "data": {
      "image/png": "[encoded data removed]",
      "text/plain": [
       "<Figure size 1500x500 with 1 Axes>"
      ]
     },
     "metadata": {},
     "output_type": "display_data"
    }
   ],
   "source": [
    "m.plot.bar(figsize=(15,5))\n",
    "plt.show()"
   ]
  },
  {
   "cell_type": "code",
   "execution_count": 48,
   "id": "835f7a06",
   "metadata": {},
   "outputs": [
    {
     "data": {
      "text/plain": [
       "Detected State\n",
       "Maharashtra                                 217107.0\n",
       "Tamil Nadu                                  118587.0\n",
       "Delhi                                       102827.0\n",
       "Gujarat                                      37631.0\n",
       "Uttar Pradesh                                29959.0\n",
       "Telangana                                    27610.0\n",
       "Karnataka                                    26743.0\n",
       "West Bengal                                  23831.0\n",
       "Rajasthan                                    21400.0\n",
       "Andhra Pradesh                               21195.0\n",
       "Haryana                                      17987.0\n",
       "Madhya Pradesh                               15625.0\n",
       "Assam                                        13337.0\n",
       "Bihar                                        12524.0\n",
       "Odisha                                       10096.0\n",
       "Jammu and Kashmir                             8930.0\n",
       "Punjab                                        6747.0\n",
       "Kerala                                        5834.0\n",
       "State Unassigned                              5034.0\n",
       "Chhattisgarh                                  3407.0\n",
       "Uttarakhand                                   3229.0\n",
       "Jharkhand                                     3018.0\n",
       "Goa                                           1903.0\n",
       "Tripura                                       1716.0\n",
       "Manipur                                       1429.0\n",
       "Himachal Pradesh                              1081.0\n",
       "Puducherry                                    1043.0\n",
       "Ladakh                                        1041.0\n",
       "Nagaland                                       644.0\n",
       "Chandigarh                                     492.0\n",
       "Dadra and Nagar Haveli and Daman and Diu       427.0\n",
       "Arunachal Pradesh                              276.0\n",
       "Mizoram                                        198.0\n",
       "Andaman and Nicobar Islands                    136.0\n",
       "Sikkim                                         127.0\n",
       "Meghalaya                                       94.0\n",
       "Name: Num Cases, dtype: float64"
      ]
     },
     "execution_count": 48,
     "metadata": {},
     "output_type": "execute_result"
    }
   ],
   "source": [
    "s=df[df['Current Status']=='Hospitalized'].groupby('Detected State')['Num Cases'].sum().sort_values(ascending=False)\n",
    "s"
   ]
  },
  {
   "cell_type": "code",
   "execution_count": 49,
   "id": "f2613fc0",
   "metadata": {},
   "outputs": [
    {
     "data": {
      "image/png": "[encoded data removed]",
      "text/plain": [
       "<Figure size 1500x500 with 1 Axes>"
      ]
     },
     "metadata": {},
     "output_type": "display_data"
    }
   ],
   "source": [
    "s.plot.bar(figsize=(15,5))\n",
    "plt.show()"
   ]
  },
  {
   "cell_type": "code",
   "execution_count": 51,
   "id": "728da01e",
   "metadata": {},
   "outputs": [
    {
     "data": {
      "text/html": [
       "<div>\n",
       "<style scoped>\n",
       "    .dataframe tbody tr th:only-of-type {\n",
       "        vertical-align: middle;\n",
       "    }\n",
       "\n",
       "    .dataframe tbody tr th {\n",
       "        vertical-align: top;\n",
       "    }\n",
       "\n",
       "    .dataframe thead th {\n",
       "        text-align: right;\n",
       "    }\n",
       "</style>\n",
       "<table border=\"1\" class=\"dataframe\">\n",
       "  <thead>\n",
       "    <tr style=\"text-align: right;\">\n",
       "      <th></th>\n",
       "      <th></th>\n",
       "      <th>Num Cases</th>\n",
       "    </tr>\n",
       "    <tr>\n",
       "      <th>Month</th>\n",
       "      <th>Day</th>\n",
       "      <th></th>\n",
       "    </tr>\n",
       "  </thead>\n",
       "  <tbody>\n",
       "    <tr>\n",
       "      <th rowspan=\"5\" valign=\"top\">03</th>\n",
       "      <th>04</th>\n",
       "      <td>5.0</td>\n",
       "    </tr>\n",
       "    <tr>\n",
       "      <th>05</th>\n",
       "      <td>1.0</td>\n",
       "    </tr>\n",
       "    <tr>\n",
       "      <th>07</th>\n",
       "      <td>2.0</td>\n",
       "    </tr>\n",
       "    <tr>\n",
       "      <th>09</th>\n",
       "      <td>4.0</td>\n",
       "    </tr>\n",
       "    <tr>\n",
       "      <th>10</th>\n",
       "      <td>4.0</td>\n",
       "    </tr>\n",
       "    <tr>\n",
       "      <th>...</th>\n",
       "      <th>...</th>\n",
       "      <td>...</td>\n",
       "    </tr>\n",
       "    <tr>\n",
       "      <th rowspan=\"5\" valign=\"top\">07</th>\n",
       "      <th>03</th>\n",
       "      <td>22718.0</td>\n",
       "    </tr>\n",
       "    <tr>\n",
       "      <th>04</th>\n",
       "      <td>24018.0</td>\n",
       "    </tr>\n",
       "    <tr>\n",
       "      <th>05</th>\n",
       "      <td>23942.0</td>\n",
       "    </tr>\n",
       "    <tr>\n",
       "      <th>06</th>\n",
       "      <td>22500.0</td>\n",
       "    </tr>\n",
       "    <tr>\n",
       "      <th>07</th>\n",
       "      <td>23147.0</td>\n",
       "    </tr>\n",
       "  </tbody>\n",
       "</table>\n",
       "<p>124 rows × 1 columns</p>\n",
       "</div>"
      ],
      "text/plain": [
       "           Num Cases\n",
       "Month Day           \n",
       "03    04         5.0\n",
       "      05         1.0\n",
       "      07         2.0\n",
       "      09         4.0\n",
       "      10         4.0\n",
       "...              ...\n",
       "07    03     22718.0\n",
       "      04     24018.0\n",
       "      05     23942.0\n",
       "      06     22500.0\n",
       "      07     23147.0\n",
       "\n",
       "[124 rows x 1 columns]"
      ]
     },
     "execution_count": 51,
     "metadata": {},
     "output_type": "execute_result"
    }
   ],
   "source": [
    "day=df[df['Current Status']=='Hospitalized'].groupby(['Month','Day'])[['Num Cases']].sum()\n",
    "day"
   ]
  },
  {
   "cell_type": "code",
   "execution_count": 55,
   "id": "f23fdd36",
   "metadata": {},
   "outputs": [
    {
     "data": {
      "image/png": "[encoded data removed]",
      "text/plain": [
       "<Figure size 1000x1000 with 5 Axes>"
      ]
     },
     "metadata": {},
     "output_type": "display_data"
    }
   ],
   "source": [
    "day.unstack(level=0).plot(kind='bar',subplots=True,figsize=(10,10))\n",
    "plt.show()"
   ]
  },
  {
   "cell_type": "code",
   "execution_count": 56,
   "id": "bae0003c",
   "metadata": {},
   "outputs": [
    {
     "data": {
      "text/plain": [
       "19817.0"
      ]
     },
     "execution_count": 56,
     "metadata": {},
     "output_type": "execute_result"
    }
   ],
   "source": [
    "df[df['Current Status']=='Deceased']['Num Cases'].sum()"
   ]
  },
  {
   "cell_type": "code",
   "execution_count": 59,
   "id": "0c0fc345",
   "metadata": {},
   "outputs": [
    {
     "data": {
      "text/plain": [
       "Detected State\n",
       "Maharashtra                                 8919.0\n",
       "Delhi                                       3112.0\n",
       "Gujarat                                     1831.0\n",
       "Tamil Nadu                                  1613.0\n",
       "Uttar Pradesh                                798.0\n",
       "West Bengal                                  787.0\n",
       "Madhya Pradesh                               521.0\n",
       "Rajasthan                                    432.0\n",
       "Karnataka                                    409.0\n",
       "Telangana                                    289.0\n",
       "Haryana                                      276.0\n",
       "Andhra Pradesh                               221.0\n",
       "Punjab                                       159.0\n",
       "Jammu and Kashmir                            138.0\n",
       "Bihar                                         97.0\n",
       "Odisha                                        54.0\n",
       "Uttarakhand                                   43.0\n",
       "Kerala                                        27.0\n",
       "Jharkhand                                     19.0\n",
       "Assam                                         15.0\n",
       "Chhattisgarh                                  14.0\n",
       "Puducherry                                    14.0\n",
       "Himachal Pradesh                               9.0\n",
       "Goa                                            8.0\n",
       "Chandigarh                                     7.0\n",
       "Arunachal Pradesh                              2.0\n",
       "Ladakh                                         1.0\n",
       "Dadra and Nagar Haveli and Daman and Diu       1.0\n",
       "Tripura                                        1.0\n",
       "Name: Num Cases, dtype: float64"
      ]
     },
     "execution_count": 59,
     "metadata": {},
     "output_type": "execute_result"
    }
   ],
   "source": [
    "dead=df[df['Current Status']=='Deceased'].groupby('Detected State')['Num Cases'].sum().sort_values(ascending=False)\n",
    "dead"
   ]
  },
  {
   "cell_type": "code",
   "execution_count": 60,
   "id": "79d19852",
   "metadata": {},
   "outputs": [
    {
     "data": {
      "image/png": "[encoded data removed]",
      "text/plain": [
       "<Figure size 1500x500 with 1 Axes>"
      ]
     },
     "metadata": {},
     "output_type": "display_data"
    }
   ],
   "source": [
    "dead.plot.bar(figsize=(15,5))\n",
    "plt.show()"
   ]
  },
  {
   "cell_type": "code",
   "execution_count": 61,
   "id": "86626668",
   "metadata": {},
   "outputs": [
    {
     "data": {
      "text/html": [
       "<div>\n",
       "<style scoped>\n",
       "    .dataframe tbody tr th:only-of-type {\n",
       "        vertical-align: middle;\n",
       "    }\n",
       "\n",
       "    .dataframe tbody tr th {\n",
       "        vertical-align: top;\n",
       "    }\n",
       "\n",
       "    .dataframe thead th {\n",
       "        text-align: right;\n",
       "    }\n",
       "</style>\n",
       "<table border=\"1\" class=\"dataframe\">\n",
       "  <thead>\n",
       "    <tr style=\"text-align: right;\">\n",
       "      <th></th>\n",
       "      <th></th>\n",
       "      <th>Num Cases</th>\n",
       "    </tr>\n",
       "    <tr>\n",
       "      <th>Month</th>\n",
       "      <th>Day</th>\n",
       "      <th></th>\n",
       "    </tr>\n",
       "  </thead>\n",
       "  <tbody>\n",
       "    <tr>\n",
       "      <th rowspan=\"5\" valign=\"top\">03</th>\n",
       "      <th>04</th>\n",
       "      <td>5.0</td>\n",
       "    </tr>\n",
       "    <tr>\n",
       "      <th>05</th>\n",
       "      <td>1.0</td>\n",
       "    </tr>\n",
       "    <tr>\n",
       "      <th>07</th>\n",
       "      <td>2.0</td>\n",
       "    </tr>\n",
       "    <tr>\n",
       "      <th>09</th>\n",
       "      <td>4.0</td>\n",
       "    </tr>\n",
       "    <tr>\n",
       "      <th>10</th>\n",
       "      <td>4.0</td>\n",
       "    </tr>\n",
       "    <tr>\n",
       "      <th>...</th>\n",
       "      <th>...</th>\n",
       "      <td>...</td>\n",
       "    </tr>\n",
       "    <tr>\n",
       "      <th rowspan=\"5\" valign=\"top\">07</th>\n",
       "      <th>03</th>\n",
       "      <td>22718.0</td>\n",
       "    </tr>\n",
       "    <tr>\n",
       "      <th>04</th>\n",
       "      <td>24018.0</td>\n",
       "    </tr>\n",
       "    <tr>\n",
       "      <th>05</th>\n",
       "      <td>23942.0</td>\n",
       "    </tr>\n",
       "    <tr>\n",
       "      <th>06</th>\n",
       "      <td>22500.0</td>\n",
       "    </tr>\n",
       "    <tr>\n",
       "      <th>07</th>\n",
       "      <td>23147.0</td>\n",
       "    </tr>\n",
       "  </tbody>\n",
       "</table>\n",
       "<p>124 rows × 1 columns</p>\n",
       "</div>"
      ],
      "text/plain": [
       "           Num Cases\n",
       "Month Day           \n",
       "03    04         5.0\n",
       "      05         1.0\n",
       "      07         2.0\n",
       "      09         4.0\n",
       "      10         4.0\n",
       "...              ...\n",
       "07    03     22718.0\n",
       "      04     24018.0\n",
       "      05     23942.0\n",
       "      06     22500.0\n",
       "      07     23147.0\n",
       "\n",
       "[124 rows x 1 columns]"
      ]
     },
     "execution_count": 61,
     "metadata": {},
     "output_type": "execute_result"
    }
   ],
   "source": [
    "cases=df[df['Current Status']=='Hospitalized'].groupby(['Month','Day'])[['Num Cases']].sum()\n",
    "cases"
   ]
  },
  {
   "cell_type": "code",
   "execution_count": 64,
   "id": "8c97334f",
   "metadata": {},
   "outputs": [
    {
     "data": {
      "text/plain": [
       "array([  0,   1,   2,   3,   4,   5,   6,   7,   8,   9,  10,  11,  12,\n",
       "        13,  14,  15,  16,  17,  18,  19,  20,  21,  22,  23,  24,  25,\n",
       "        26,  27,  28,  29,  30,  31,  32,  33,  34,  35,  36,  37,  38,\n",
       "        39,  40,  41,  42,  43,  44,  45,  46,  47,  48,  49,  50,  51,\n",
       "        52,  53,  54,  55,  56,  57,  58,  59,  60,  61,  62,  63,  64,\n",
       "        65,  66,  67,  68,  69,  70,  71,  72,  73,  74,  75,  76,  77,\n",
       "        78,  79,  80,  81,  82,  83,  84,  85,  86,  87,  88,  89,  90,\n",
       "        91,  92,  93,  94,  95,  96,  97,  98,  99, 100, 101, 102, 103,\n",
       "       104, 105, 106, 107, 108, 109, 110, 111, 112, 113, 114, 115, 116,\n",
       "       117, 118, 119, 120, 121, 122, 123])"
      ]
     },
     "execution_count": 64,
     "metadata": {},
     "output_type": "execute_result"
    }
   ],
   "source": [
    "x=np.arange(len(cases))\n",
    "x"
   ]
  },
  {
   "cell_type": "code",
   "execution_count": 65,
   "id": "42053df4",
   "metadata": {},
   "outputs": [
    {
     "data": {
      "text/plain": [
       "array([[5.0000e+00],\n",
       "       [1.0000e+00],\n",
       "       [2.0000e+00],\n",
       "       [4.0000e+00],\n",
       "       [4.0000e+00],\n",
       "       [8.0000e+00],\n",
       "       [4.0000e+00],\n",
       "       [6.0000e+00],\n",
       "       [1.1000e+01],\n",
       "       [8.0000e+00],\n",
       "       [1.2000e+01],\n",
       "       [1.4000e+01],\n",
       "       [2.2000e+01],\n",
       "       [2.1000e+01],\n",
       "       [5.2000e+01],\n",
       "       [6.7000e+01],\n",
       "       [5.9000e+01],\n",
       "       [8.2000e+01],\n",
       "       [6.3000e+01],\n",
       "       [7.5000e+01],\n",
       "       [5.8000e+01],\n",
       "       [1.4000e+02],\n",
       "       [1.2300e+02],\n",
       "       [1.0600e+02],\n",
       "       [1.7800e+02],\n",
       "       [3.0600e+02],\n",
       "       [4.2300e+02],\n",
       "       [4.8500e+02],\n",
       "       [5.5600e+02],\n",
       "       [5.7600e+02],\n",
       "       [6.0600e+02],\n",
       "       [4.8500e+02],\n",
       "       [5.7000e+02],\n",
       "       [5.6300e+02],\n",
       "       [8.1200e+02],\n",
       "       [8.7000e+02],\n",
       "       [8.5300e+02],\n",
       "       [7.5800e+02],\n",
       "       [1.2430e+03],\n",
       "       [1.0310e+03],\n",
       "       [8.8400e+02],\n",
       "       [1.0610e+03],\n",
       "       [9.2200e+02],\n",
       "       [1.3700e+03],\n",
       "       [1.5790e+03],\n",
       "       [1.2390e+03],\n",
       "       [1.5370e+03],\n",
       "       [1.2920e+03],\n",
       "       [1.6670e+03],\n",
       "       [1.4080e+03],\n",
       "       [1.8350e+03],\n",
       "       [1.6070e+03],\n",
       "       [1.5680e+03],\n",
       "       [1.9020e+03],\n",
       "       [1.7050e+03],\n",
       "       [1.8020e+03],\n",
       "       [2.3960e+03],\n",
       "       [2.5640e+03],\n",
       "       [2.9520e+03],\n",
       "       [3.6560e+03],\n",
       "       [2.9710e+03],\n",
       "       [3.6020e+03],\n",
       "       [3.3440e+03],\n",
       "       [3.3390e+03],\n",
       "       [3.1750e+03],\n",
       "       [4.3110e+03],\n",
       "       [3.5920e+03],\n",
       "       [3.5620e+03],\n",
       "       [3.7260e+03],\n",
       "       [3.9910e+03],\n",
       "       [3.8080e+03],\n",
       "       [4.7940e+03],\n",
       "       [5.0490e+03],\n",
       "       [4.6280e+03],\n",
       "       [6.1540e+03],\n",
       "       [5.7200e+03],\n",
       "       [6.0230e+03],\n",
       "       [6.5360e+03],\n",
       "       [6.6650e+03],\n",
       "       [7.1110e+03],\n",
       "       [6.4140e+03],\n",
       "       [5.9070e+03],\n",
       "       [7.2460e+03],\n",
       "       [7.2540e+03],\n",
       "       [8.1380e+03],\n",
       "       [8.3640e+03],\n",
       "       [8.7890e+03],\n",
       "       [7.7230e+03],\n",
       "       [8.8120e+03],\n",
       "       [9.6890e+03],\n",
       "       [9.8470e+03],\n",
       "       [9.4720e+03],\n",
       "       [1.0408e+04],\n",
       "       [1.0882e+04],\n",
       "       [8.5360e+03],\n",
       "       [9.9810e+03],\n",
       "       [1.1156e+04],\n",
       "       [1.1135e+04],\n",
       "       [1.1306e+04],\n",
       "       [1.2039e+04],\n",
       "       [1.1404e+04],\n",
       "       [1.0032e+04],\n",
       "       [1.1085e+04],\n",
       "       [1.3108e+04],\n",
       "       [1.3829e+04],\n",
       "       [1.4740e+04],\n",
       "       [1.5918e+04],\n",
       "       [1.5151e+04],\n",
       "       [1.3560e+04],\n",
       "       [1.5656e+04],\n",
       "       [1.6868e+04],\n",
       "       [1.8205e+04],\n",
       "       [1.8255e+04],\n",
       "       [2.0142e+04],\n",
       "       [1.9610e+04],\n",
       "       [1.8339e+04],\n",
       "       [1.8256e+04],\n",
       "       [1.9429e+04],\n",
       "       [2.1947e+04],\n",
       "       [2.2718e+04],\n",
       "       [2.4018e+04],\n",
       "       [2.3942e+04],\n",
       "       [2.2500e+04],\n",
       "       [2.3147e+04]])"
      ]
     },
     "execution_count": 65,
     "metadata": {},
     "output_type": "execute_result"
    }
   ],
   "source": [
    "y=cases.values\n",
    "y"
   ]
  },
  {
   "cell_type": "code",
   "execution_count": 67,
   "id": "363b6c0c",
   "metadata": {},
   "outputs": [
    {
     "data": {
      "image/png": "[encoded data removed]",
      "text/plain": [
       "<Figure size 640x480 with 1 Axes>"
      ]
     },
     "metadata": {},
     "output_type": "display_data"
    }
   ],
   "source": [
    "plt.scatter(x,y)\n",
    "plt.show()"
   ]
  },
  {
   "cell_type": "code",
   "execution_count": 68,
   "id": "30b3d09d",
   "metadata": {},
   "outputs": [
    {
     "data": {
      "text/plain": [
       "array([[  0],\n",
       "       [  1],\n",
       "       [  2],\n",
       "       [  3],\n",
       "       [  4],\n",
       "       [  5],\n",
       "       [  6],\n",
       "       [  7],\n",
       "       [  8],\n",
       "       [  9],\n",
       "       [ 10],\n",
       "       [ 11],\n",
       "       [ 12],\n",
       "       [ 13],\n",
       "       [ 14],\n",
       "       [ 15],\n",
       "       [ 16],\n",
       "       [ 17],\n",
       "       [ 18],\n",
       "       [ 19],\n",
       "       [ 20],\n",
       "       [ 21],\n",
       "       [ 22],\n",
       "       [ 23],\n",
       "       [ 24],\n",
       "       [ 25],\n",
       "       [ 26],\n",
       "       [ 27],\n",
       "       [ 28],\n",
       "       [ 29],\n",
       "       [ 30],\n",
       "       [ 31],\n",
       "       [ 32],\n",
       "       [ 33],\n",
       "       [ 34],\n",
       "       [ 35],\n",
       "       [ 36],\n",
       "       [ 37],\n",
       "       [ 38],\n",
       "       [ 39],\n",
       "       [ 40],\n",
       "       [ 41],\n",
       "       [ 42],\n",
       "       [ 43],\n",
       "       [ 44],\n",
       "       [ 45],\n",
       "       [ 46],\n",
       "       [ 47],\n",
       "       [ 48],\n",
       "       [ 49],\n",
       "       [ 50],\n",
       "       [ 51],\n",
       "       [ 52],\n",
       "       [ 53],\n",
       "       [ 54],\n",
       "       [ 55],\n",
       "       [ 56],\n",
       "       [ 57],\n",
       "       [ 58],\n",
       "       [ 59],\n",
       "       [ 60],\n",
       "       [ 61],\n",
       "       [ 62],\n",
       "       [ 63],\n",
       "       [ 64],\n",
       "       [ 65],\n",
       "       [ 66],\n",
       "       [ 67],\n",
       "       [ 68],\n",
       "       [ 69],\n",
       "       [ 70],\n",
       "       [ 71],\n",
       "       [ 72],\n",
       "       [ 73],\n",
       "       [ 74],\n",
       "       [ 75],\n",
       "       [ 76],\n",
       "       [ 77],\n",
       "       [ 78],\n",
       "       [ 79],\n",
       "       [ 80],\n",
       "       [ 81],\n",
       "       [ 82],\n",
       "       [ 83],\n",
       "       [ 84],\n",
       "       [ 85],\n",
       "       [ 86],\n",
       "       [ 87],\n",
       "       [ 88],\n",
       "       [ 89],\n",
       "       [ 90],\n",
       "       [ 91],\n",
       "       [ 92],\n",
       "       [ 93],\n",
       "       [ 94],\n",
       "       [ 95],\n",
       "       [ 96],\n",
       "       [ 97],\n",
       "       [ 98],\n",
       "       [ 99],\n",
       "       [100],\n",
       "       [101],\n",
       "       [102],\n",
       "       [103],\n",
       "       [104],\n",
       "       [105],\n",
       "       [106],\n",
       "       [107],\n",
       "       [108],\n",
       "       [109],\n",
       "       [110],\n",
       "       [111],\n",
       "       [112],\n",
       "       [113],\n",
       "       [114],\n",
       "       [115],\n",
       "       [116],\n",
       "       [117],\n",
       "       [118],\n",
       "       [119],\n",
       "       [120],\n",
       "       [121],\n",
       "       [122],\n",
       "       [123]])"
      ]
     },
     "execution_count": 68,
     "metadata": {},
     "output_type": "execute_result"
    }
   ],
   "source": [
    "x.reshape(-1,1)"
   ]
  },
  {
   "cell_type": "code",
   "execution_count": null,
   "id": "c916defa",
   "metadata": {},
   "outputs": [],
   "source": [
    "from sklearn.linear_model import LinearRegression\n",
    "reg = LinearRegression()\n",
    "reg.fit(x,y)"
   ]
  },
  {
   "cell_type": "code",
   "execution_count": null,
   "id": "668e18a9",
   "metadata": {},
   "outputs": [],
   "source": []
  }
 ],
 "metadata": {
  "kernelspec": {
   "display_name": "Python 3 (ipykernel)",
   "language": "python",
   "name": "python3"
  },
  "language_info": {
   "codemirror_mode": {
    "name": "ipython",
    "version": 3
   },
   "file_extension": ".py",
   "mimetype": "text/x-python",
   "name": "python",
   "nbconvert_exporter": "python",
   "pygments_lexer": "ipython3",
   "version": "3.10.6"
  }
 },
 "nbformat": 4,
 "nbformat_minor": 5
}
